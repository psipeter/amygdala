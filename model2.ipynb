{
 "cells": [
  {
   "cell_type": "markdown",
   "id": "24ee9d9a",
   "metadata": {},
   "source": [
    "# Model 2: LA, BLA, CeL, CeM, LA_IN, and BLA_IN: add inhibitory interneurons that inhibit certain populations\n",
    "\n",
    "1. Behavioral data\n",
    "    - <span style=\"color:green\">conditioned freezing\n",
    "    - <span style=\"color:green\">extinction-induced reduction of freezing\n",
    "    - <span style=\"color:green\">renewal of freezing when the CS is presented in the original context\n",
    "\n",
    "\n",
    "2. Activity data\n",
    "    - <span style=\"color:green\">LA neurons (excitatory) become CS-responsive after conditioning\n",
    "    - LA neurons (excitatory) maintain CS-responsiveness after extinction\n",
    "    - <span style=\"color:green\">BLA fear neurons (excitatory) become CS-responsive after conditioning and lose CS-responsiveness after extinction\n",
    "    - <span style=\"color:green\">BLA extinction neurons (excitatory) become CS-responsive after extinction\n",
    "    - <span style=\"color:green\">BLA persistent neurons (excitatory) become CS-responsive after conditioning and maintain their activity after extinction\n",
    "    - <span style=\"color:green\">CeL \"on\" neurons (inhibitory) become more responsive to CS following conditioning\n",
    "    - <span style=\"color:green\">CeL \"off\" neurons (inhibitory) become less responsive to CS following conditioning\n",
    "    - LA \"PV\" neurons (inhibitory) become more responsive to CS (indirectly) during conditioning\n",
    "    - LA \"SOM\" neurons (inhibitory) become less responsive to CS (indirectly) during conditioning\n",
    "    - Inhibition of LA PNs by PV INs is reduced during conditioning\n",
    "    - Presenting the US inhibits PV and SOM in LA, allowing LTP at CS-responsive LA PNs\n",
    "    - INs in BLA are differentially recruited during extinction\n",
    "\n",
    "\n",
    "3. Data produced by external perturbations (electrophysiology and pharmacology)\n",
    "    - <span style=\"color:green\">Inactivating LA during conditioning impairs fear learning\n",
    "    - <span style=\"color:green\">Inactivating LA during test impairs fear expression\n",
    "    - Inactivating BLA during extinction impairs extinction learning\n",
    "    - Activating BLA interneurons during conditioning impairs fear learning\n",
    "    - Inactivating BLA interneurons during conditioning facilitates fear learning\n",
    "    - Depolarizing LA neurons while presenting a CS induces weak fear learning\n",
    "    - Destroying INs in BLA that target BLA fear neurons impairs extinction\n",
    "    - Destroying INs in the ITC impairs BLA’s ability to inhibit CeA and impairs extinction\n",
    "    - Upregulating DA and NE suppress feedforward inhibition and reduce fear conditioning \n",
    "    - <span style=\"color:green\">Inactivation of CeL produces sponteneous freezing\n",
    "    - Activation of CeL_on cells after conditioning causes freezing\n",
    "    - <span style=\"color:green\">Inactivation of CeL during conditioning reduces freezing at test\n",
    "    - <span style=\"color:green\">Inactivation of CeM after conditioning impairs freezing\n",
    "    - <span style=\"color:green\">Activation of CeM causes spontaneous freezing\n",
    "    - \n",
    "\n",
    "\n",
    "\n"
   ]
  },
  {
   "cell_type": "code",
   "execution_count": 1,
   "id": "9285f59f",
   "metadata": {},
   "outputs": [],
   "source": [
    "import numpy as np\n",
    "import nengo\n",
    "import matplotlib.pyplot as plt\n",
    "import seaborn as sns\n",
    "import pandas as pd\n",
    "\n",
    "palette = sns.color_palette(\"colorblind\")\n",
    "sns.set_palette(palette)\n",
    "sns.set(context='paper', style='white', font='CMU Serif')"
   ]
  },
  {
   "cell_type": "code",
   "execution_count": 2,
   "id": "616b32c2",
   "metadata": {},
   "outputs": [],
   "source": [
    "class Inputs():\n",
    "    def __init__(self, nCS=1, nCTX=2, dim_CS=3, dim_CTX=2, seed=0):\n",
    "        self.rng = np.random.RandomState(seed=seed)\n",
    "        self.sampler = nengo.dists.UniformHypersphere(surface=True)\n",
    "        self.dim_CS = dim_CS\n",
    "        self.dim_CTX = dim_CTX\n",
    "        self.nCS = nCS\n",
    "        self.nCTX = nCTX\n",
    "        self.CS = np.zeros((self.dim_CS))\n",
    "        self.US = 0\n",
    "        self.CTX = np.zeros((self.dim_CTX))\n",
    "        self.CSs = self.sampler.sample(nCS, dim_CS, rng=self.rng)\n",
    "        self.CTXs = self.sampler.sample(nCTX, dim_CTX, rng=self.rng)\n",
    "        self.applied_input = 0\n",
    "    def get_CS(self, t):\n",
    "        idx = int(t/2) % self.nCS\n",
    "        applied = True if t%2>1 else False  # 1s of no input, 1s of CS input\n",
    "        self.CS = self.CSs[idx] if applied else np.zeros((self.dim_CS))\n",
    "        return self.CS\n",
    "    def get_CTX(self, t):\n",
    "        return self.CTX\n",
    "    def get_US(self, t):\n",
    "        idx = int(t/2) % self.nCS\n",
    "        applied = True if t%2>1 else False # 1s of no input, 1s of US input \n",
    "        return self.US if applied else 0\n",
    "    def get_applied_input(self, t):\n",
    "        return self.applied_input"
   ]
  },
  {
   "cell_type": "markdown",
   "id": "3adf3b4a",
   "metadata": {},
   "source": [
    "### Divide CeA into CeL and CeM, then model CS-US association in CeL and subsequent release of inhibition onto CeM"
   ]
  },
  {
   "cell_type": "code",
   "execution_count": 82,
   "id": "8fb6462f",
   "metadata": {},
   "outputs": [],
   "source": [
    "def build_network(\n",
    "        seed = 0,\n",
    "        nNeurons = 200,\n",
    "        dim_CS = 3,\n",
    "        dim_CTX = 10,\n",
    "        nCTX = 2,\n",
    "    ):\n",
    "\n",
    "    net = nengo.Network(seed=seed)\n",
    "    net.inputs = Inputs(nCS=1, dim_CS=dim_CS, dim_CTX=dim_CTX, nCTX=nCTX, seed=seed)\n",
    "    net.config[nengo.Connection].synapse = 0.01\n",
    "    net.config[nengo.Probe].synapse = 0.01\n",
    "    intercepts_pos = nengo.dists.Uniform(0, 1)\n",
    "    encoders_pos = nengo.dists.Choice([[1]])\n",
    "    encoders_ctx = nengo.dists.Choice(net.inputs.CTXs)\n",
    "    intercepts_ctx = (np.dot(net.inputs.CTXs, net.inputs.CTXs.T) - np.eye(nCTX)).flatten().max()\n",
    "\n",
    "    with net:\n",
    "        # inputs\n",
    "        CS = nengo.Node(lambda t, x: net.inputs.get_CS(t), size_in=2)\n",
    "        US = nengo.Node(lambda t, x: net.inputs.get_US(t), size_in=2)\n",
    "        CTX = nengo.Node(lambda t, x: net.inputs.get_CTX(t), size_in=2, size_out=dim_CTX)\n",
    "        applied_input = nengo.Node(lambda t, x: net.inputs.get_applied_input(t), size_in=2)\n",
    "        bias = nengo.Node(lambda t: 0.4)\n",
    "\n",
    "        # external ensembles\n",
    "        external_CS = nengo.Ensemble(dim_CS*nNeurons, dim_CS)\n",
    "        external_US = nengo.Ensemble(nNeurons, 1)\n",
    "        external_CTX = nengo.Ensemble(dim_CTX*nNeurons, dim_CTX,\n",
    "            intercepts=[intercepts_ctx]*dim_CTX*nNeurons, encoders=encoders_ctx)\n",
    "        # amygdala ensembles\n",
    "        LA = nengo.Ensemble(2*nNeurons, 2, radius=2)  # [CS, US]\n",
    "        BLA = nengo.Ensemble(3*nNeurons, 3, radius=3)  # [CS, US, CTX]\n",
    "        CeL = nengo.Ensemble(3*nNeurons, 3, radius=3)  # [CS, US, bias]\n",
    "        CeM = nengo.Ensemble(nNeurons, 1, intercepts=intercepts_pos, encoders=encoders_pos)  # [freeze]\n",
    "        # error populations\n",
    "        error_LA = nengo.Ensemble(nNeurons, 1, intercepts=intercepts_pos, encoders=encoders_pos)\n",
    "        error_LA_noCS = nengo.Ensemble(nNeurons, 1, intercepts=intercepts_pos, encoders=encoders_pos)\n",
    "        error_BLA_safe = nengo.Ensemble(nNeurons, 1, intercepts=intercepts_pos, encoders=encoders_pos)\n",
    "        error_BLA_fear = nengo.Ensemble(nNeurons, 1, intercepts=intercepts_pos, encoders=encoders_pos)\n",
    "        error_CeL = nengo.Ensemble(nNeurons, 1, intercepts=intercepts_pos, encoders=encoders_pos)\n",
    "        error_CeL_noCS = nengo.Ensemble(nNeurons, 1, intercepts=intercepts_pos, encoders=encoders_pos)\n",
    "\n",
    "        # external connections\n",
    "        nengo.Connection(CS, external_CS, synapse=None)\n",
    "        nengo.Connection(US, external_US, synapse=None)\n",
    "        nengo.Connection(CTX, external_CTX, synapse=None)\n",
    "        nengo.Connection(bias, CeL[2], synapse=None)\n",
    "        nengo.Connection(bias, CeM, synapse=None)\n",
    "        # internal connections\n",
    "        nengo.Connection(external_US, LA[1])  # transmit US to LA\n",
    "        nengo.Connection(external_US, CeL[1])  # transmit US to CeL\n",
    "        nengo.Connection(LA, BLA[:2])  # transmit [CS, US] from LA to BLA\n",
    "        nengo.Connection(BLA[2], CeM, transform=0.6)  # CTX response (pos or neg) added to CeM state\n",
    "        nengo.Connection(CeL, CeM, function=lambda x: x[0]-x[2], transform=1)  # CeL inhibits CeM (CS response - default)\n",
    "        # learned connections\n",
    "        external_to_la = nengo.Connection(external_CS, LA[0], function=lambda x: 0, learning_rule_type=nengo.PES(1e-4))\n",
    "        external_to_bla = nengo.Connection(external_CTX, BLA[2], function=lambda x: 0, learning_rule_type=nengo.PES(1e-5))\n",
    "        la_to_cel = nengo.Connection(LA[0], CeL[0], function=lambda x: 0, learning_rule_type=nengo.PES(8e-5))\n",
    "        # error connections, LA\n",
    "        nengo.Connection(LA, error_LA, function=lambda x: x[1]-x[0])  # US - (CS response)\n",
    "        nengo.Connection(error_LA, external_to_la.learning_rule, transform=-1)\n",
    "        nengo.Connection(LA, error_LA_noCS, function=lambda x: x[0])  # (CS response)\n",
    "        nengo.Connection(external_CS, error_LA_noCS, function=lambda x: -np.sum(np.square(x)))  # any CS present\n",
    "        nengo.Connection(error_LA_noCS, external_to_la.learning_rule, transform=2)\n",
    "        # error connections, BLA\n",
    "        nengo.Connection(BLA, error_BLA_safe, function=lambda x: x[0]+x[2]-x[1])  # CS response + CTX response (negative), removed if US present\n",
    "        nengo.Connection(BLA, error_BLA_safe.neurons,\n",
    "            function=lambda x: 1-x[0], transform=-1e0*np.ones((nNeurons,1)))  # inhibit unless CS is present\n",
    "        nengo.Connection(BLA, error_BLA_safe.neurons,\n",
    "            function=lambda x: x[1], transform=-1e0*np.ones((nNeurons,1)))  # inhibit if US is present\n",
    "        nengo.Connection(error_BLA_safe, external_to_bla.learning_rule, transform=0.3)\n",
    "        nengo.Connection(BLA, error_BLA_fear, function=lambda x: x[1]-x[2])   # US response - CTX response\n",
    "        nengo.Connection(BLA, error_BLA_fear.neurons,\n",
    "            function=lambda x: 1-x[1], transform=-1e0*np.ones((nNeurons,1)))  # inhibit unless US is present\n",
    "        nengo.Connection(error_BLA_fear, external_to_bla.learning_rule, transform=-1)\n",
    "        # error connections, CeL\n",
    "        nengo.Connection(CeL, error_CeL, function=lambda x: x[1]-x[0])  # US - CS response\n",
    "        nengo.Connection(error_CeL, la_to_cel.learning_rule, transform=-1)\n",
    "        nengo.Connection(CeL, error_CeL_noCS, function=lambda x: x[0])  # CS response\n",
    "        nengo.Connection(external_CS, error_CeL_noCS, function=lambda x: -np.sum(np.square(x)))  # any CS present\n",
    "\n",
    "        # probes\n",
    "        net.pCS = nengo.Probe(CS, synapse=None)\n",
    "        net.pUS = nengo.Probe(US, synapse=None)\n",
    "        net.pCTX = nengo.Probe(CTX, synapse=None)\n",
    "        net.pAppliedInput = nengo.Probe(applied_input, synapse=None)\n",
    "        net.pLA_spikes = nengo.Probe(LA.neurons)\n",
    "        net.pBLA_spikes = nengo.Probe(BLA.neurons)\n",
    "        net.pCeL_spikes = nengo.Probe(CeL.neurons)\n",
    "        net.pCeM_spikes = nengo.Probe(CeM.neurons)\n",
    "        net.pLA = nengo.Probe(LA)\n",
    "        net.pBLA = nengo.Probe(BLA)\n",
    "        net.pCeL = nengo.Probe(CeL)\n",
    "        net.pCeM = nengo.Probe(CeM)\n",
    "        net.pError_LA = nengo.Probe(error_LA)\n",
    "        net.pError_LA_noCS = nengo.Probe(error_LA_noCS)\n",
    "        net.pError_BLA_safe = nengo.Probe(error_BLA_safe)\n",
    "        net.pError_BLA_fear = nengo.Probe(error_BLA_fear)\n",
    "        net.pError_CeL = nengo.Probe(error_CeL)\n",
    "        net.pError_CeL_noCS = nengo.Probe(error_CeL_noCS)\n",
    "        \n",
    "        # for later reference\n",
    "        net.LA = LA\n",
    "        net.BLA = BLA\n",
    "        net.CeL = CeL\n",
    "        net.CeM = CeM\n",
    "        net.applied_input = applied_input\n",
    "        net.error_CeL = error_CeL\n",
    "        net.error_CeL_noCS = error_CeL_noCS\n",
    "        net.error_LA = error_LA\n",
    "        net.error_LA_noCS = error_LA_noCS\n",
    "        net.error_BLA_safe = error_BLA_safe\n",
    "        net.error_BLA_fear = error_BLA_fear\n",
    "        net.external_to_la = nengo.Probe(external_to_la, 'weights')\n",
    "        net.external_to_bla = nengo.Probe(external_to_bla, 'weights')\n",
    "        net.la_to_cel = nengo.Probe(la_to_cel, 'weights')\n",
    "\n",
    "    return net"
   ]
  },
  {
   "cell_type": "markdown",
   "id": "ffcdf393",
   "metadata": {},
   "source": [
    "## Confirm that Model 2 reproduces results from Model 1, and captures basic behavioral and spiking data"
   ]
  },
  {
   "cell_type": "code",
   "execution_count": 4,
   "id": "f8157ba9",
   "metadata": {},
   "outputs": [
    {
     "name": "stdout",
     "output_type": "stream",
     "text": [
      "baseline\n",
      "conditioning\n",
      "test (CS+CTX_A)\n",
      "extinction\n",
      "test (CS+CTX_B)\n",
      "test (CS+CTX_A)\n"
     ]
    }
   ],
   "source": [
    "dt = 0.001\n",
    "nCond = 5\n",
    "nExt = 10\n",
    "\n",
    "net = build_network()\n",
    "sim = nengo.Simulator(net, dt=dt, progress_bar=False)\n",
    "with sim:\n",
    "    print(\"baseline\")\n",
    "    net.inputs.CTX = net.inputs.CTXs[0]\n",
    "    net.inputs.US = 0\n",
    "    sim.run(2)\n",
    "    T_baseline_inactive = int(1/dt)\n",
    "    T_baseline_active = int(2/dt)\n",
    "    print(\"conditioning\")\n",
    "    net.inputs.CTX = net.inputs.CTXs[0]\n",
    "    net.inputs.US = 1\n",
    "    for p in range(nCond):\n",
    "        sim.run(2)\n",
    "    print(\"test (CTX_A)\")\n",
    "    net.inputs.CTX = net.inputs.CTXs[0]\n",
    "    net.inputs.US = 0\n",
    "    sim.run(2)\n",
    "    T_expression_cond_inactive = int((2+2*nCond+1)/dt)\n",
    "    T_expression_cond_active = int((2+2*nCond+2)/dt)\n",
    "    print(\"extinction\")\n",
    "    net.inputs.CTX = net.inputs.CTXs[1]\n",
    "    net.inputs.US = 0\n",
    "    for p in range(nExt):\n",
    "        sim.run(2)\n",
    "    print(\"test (CTX_B)\")\n",
    "    net.inputs.CTX = net.inputs.CTXs[1]\n",
    "    net.inputs.US = 0\n",
    "    sim.run(2)\n",
    "    T_expression_ext_inactive = int((2+2*nCond+2+2*nExt+1)/dt)\n",
    "    T_expression_ext_active = int((2+2*nCond+2+2*nExt+2)/dt)\n",
    "    print(\"test (CTX_A)\")\n",
    "    net.inputs.CTX = net.inputs.CTXs[0]\n",
    "    net.inputs.US = 0\n",
    "    sim.run(2)\n",
    "    T_expression_renewal_inactive = int((2+2*nCond+2+2*nExt+2+1)/dt)\n",
    "    T_expression_renewal_active = int((2+2*nCond+2+2*nExt+2+2)/dt)"
   ]
  },
  {
   "cell_type": "markdown",
   "id": "3cc24866",
   "metadata": {},
   "source": [
    "### Behavior"
   ]
  },
  {
   "cell_type": "code",
   "execution_count": 5,
   "id": "6f9b9eee",
   "metadata": {},
   "outputs": [
    {
     "data": {
      "image/png": "[encoded data removed]",
      "text/plain": [
       "<Figure size 800x400 with 1 Axes>"
      ]
     },
     "metadata": {},
     "output_type": "display_data"
    }
   ],
   "source": [
    "data = pd.DataFrame(columns=[\"Freezing\", \"Experiment\"])\n",
    "data = data.append({\n",
    "    \"Freezing\": np.mean(sim.data[net.pCeM][T_baseline_inactive: T_baseline_active]),\n",
    "    \"Experiment\": \"baseline\"},\n",
    "    ignore_index=True)\n",
    "data = data.append({\n",
    "    \"Freezing\": np.mean(sim.data[net.pCeM][T_expression_cond_inactive: T_expression_cond_active]),\n",
    "    \"Experiment\": 'conditioning'},\n",
    "    ignore_index=True)\n",
    "data = data.append({\n",
    "    \"Freezing\": np.mean(sim.data[net.pCeM][T_expression_ext_inactive: T_expression_ext_active]),\n",
    "    \"Experiment\": 'extinction'},\n",
    "    ignore_index=True)\n",
    "data = data.append({\n",
    "    \"Freezing\": np.mean(sim.data[net.pCeM][T_expression_ext_active: T_expression_renewal_inactive]),\n",
    "    \"Experiment\": 'test (CTX_A)'},\n",
    "    ignore_index=True)\n",
    "data = data.append({\n",
    "    \"Freezing\": np.mean(sim.data[net.pCeM][T_expression_renewal_inactive: T_expression_renewal_active]),\n",
    "    \"Experiment\": 'test (CTX_A+CS)'},\n",
    "    ignore_index=True)\n",
    "\n",
    "fig, ax = plt.subplots(figsize=((8,4)))\n",
    "sns.barplot(data=data, x='Experiment', y=\"Freezing\", palette=palette)\n",
    "ax.set(xlabel=None, yticks=((0,1)))\n",
    "plt.tight_layout()"
   ]
  },
  {
   "cell_type": "markdown",
   "id": "d05edf9d",
   "metadata": {},
   "source": [
    "### LA and CeL have \"on\" and \"off\" neurons"
   ]
  },
  {
   "cell_type": "code",
   "execution_count": 6,
   "id": "e26b5a55",
   "metadata": {},
   "outputs": [
    {
     "name": "stdout",
     "output_type": "stream",
     "text": [
      "34.5% of LA neurons are 'on' neurons\n",
      "22.0% of LA neurons are 'off' neurons\n",
      "22.8% of CeL neurons are 'on' neurons\n",
      "13.0% of CeL neurons are 'off' neurons\n"
     ]
    },
    {
     "data": {
      "image/png": "[encoded data removed]",
      "text/plain": [
       "<Figure size 800x400 with 2 Axes>"
      ]
     },
     "metadata": {},
     "output_type": "display_data"
    }
   ],
   "source": [
    "LA_baseline = sim.data[net.pLA_spikes][T_baseline_inactive: T_baseline_active]\n",
    "LA_expression = sim.data[net.pLA_spikes][T_expression_cond_inactive: T_expression_cond_active]\n",
    "CeL_baseline = sim.data[net.pCeL_spikes][T_baseline_inactive: T_baseline_active]\n",
    "CeL_expression = sim.data[net.pCeL_spikes][T_expression_cond_inactive: T_expression_cond_active]\n",
    "\n",
    "dLA = np.mean(LA_expression - LA_baseline, axis=0)\n",
    "dCeL = np.mean(LA_expression - LA_baseline, axis=0)\n",
    "A_thr_on = 1.2  # neurons are \"increasing\" if they fire >20% more than the post-conditioning baseline\n",
    "A_thr_off = 0.8  # neurons are \"decreasing\" if they fire at <80% of post-conditioning baseline\n",
    "\n",
    "LA_on = np.where(np.mean(LA_expression, axis=0) > A_thr_on*np.mean(LA_baseline, axis=0))[0]\n",
    "LA_off = np.where(np.mean(LA_expression, axis=0) < A_thr_off*np.mean(LA_baseline, axis=0))[0]\n",
    "LA_other = np.setdiff1d(np.arange(dLA.shape[0]), np.concatenate((LA_on, LA_off)))\n",
    "CeL_on = np.where(np.mean(CeL_expression, axis=0) > A_thr_on*np.mean(CeL_baseline, axis=0))[0]\n",
    "CeL_off = np.where(np.mean(CeL_expression, axis=0) < A_thr_off*np.mean(CeL_baseline, axis=0))[0]\n",
    "CeL_other = np.setdiff1d(np.arange(dCeL.shape[0]), np.concatenate((CeL_on, CeL_off)))\n",
    "\n",
    "print(f\"{len(LA_on)/len(dLA)*100:.3}% of LA neurons are 'on' neurons\")\n",
    "print(f\"{len(LA_off)/len(dLA)*100:.3}% of LA neurons are 'off' neurons\")\n",
    "print(f\"{len(CeL_on)/len(dCeL)*100:.3}% of CeL neurons are 'on' neurons\")\n",
    "print(f\"{len(CeL_off)/len(dCeL)*100:.3}% of CeL neurons are 'off' neurons\")\n",
    "\n",
    "data = pd.DataFrame(columns=[\"neuron\", \"region\", \"CS response\", \"Activity\", \"Experiment\"])\n",
    "for n in LA_on:\n",
    "    data = data.append({\"neuron\": n, \"region\": \"LA\", \"CS response\": \"on\", \"Activity\": np.mean(LA_baseline[:,n]), \"Experiment\": \"Control\"}, ignore_index=True)\n",
    "    data = data.append({\"neuron\": n, \"region\": \"LA\", \"CS response\": \"on\", \"Activity\": np.mean(LA_expression[:,n]), \"Experiment\": \"Test\"}, ignore_index=True)\n",
    "for n in LA_off:\n",
    "    data = data.append({\"neuron\": n, \"region\": \"LA\", \"CS response\": \"off\", \"Activity\": np.mean(LA_baseline[:,n]), \"Experiment\": \"Control\"}, ignore_index=True)\n",
    "    data = data.append({\"neuron\": n, \"region\": \"LA\", \"CS response\": \"off\", \"Activity\": np.mean(LA_expression[:,n]), \"Experiment\": \"Test\"}, ignore_index=True)\n",
    "for n in CeL_on:\n",
    "    data = data.append({\"neuron\": n, \"region\": \"CeL\", \"CS response\": \"on\", \"Activity\": np.mean(CeL_baseline[:,n]), \"Experiment\": \"Control\"}, ignore_index=True)\n",
    "    data = data.append({\"neuron\": n, \"region\": \"CeL\", \"CS response\": \"on\", \"Activity\": np.mean(CeL_expression[:,n]), \"Experiment\": \"Test\"}, ignore_index=True)\n",
    "for n in CeL_off:\n",
    "    data = data.append({\"neuron\": n, \"region\": \"CeL\", \"CS response\": \"off\", \"Activity\": np.mean(CeL_baseline[:,n]), \"Experiment\": \"Control\"}, ignore_index=True)\n",
    "    data = data.append({\"neuron\": n, \"region\": \"CeL\", \"CS response\": \"off\", \"Activity\": np.mean(CeL_expression[:,n]), \"Experiment\": \"Test\"}, ignore_index=True)\n",
    "    \n",
    "fig, axes = plt.subplots(nrows=2, ncols=1, figsize=((8,4)), sharex=True)\n",
    "sns.barplot(data=data.query(\"region=='LA'\"), x=\"CS response\", y=\"Activity\", hue=\"Experiment\", palette=palette, ax=axes[0])\n",
    "sns.barplot(data=data.query(\"region=='CeL'\"), x=\"CS response\", y=\"Activity\", hue=\"Experiment\", palette=palette, ax=axes[1])\n",
    "axes[0].set(xlabel=None, title=\"LA\")\n",
    "axes[1].set(xlabel=None, title=\"CeL\")\n",
    "plt.tight_layout()"
   ]
  },
  {
   "cell_type": "markdown",
   "id": "7bf67a3e",
   "metadata": {},
   "source": [
    "### BLA has \"fear\", \"expression\", and \"persistent\" neurons"
   ]
  },
  {
   "cell_type": "code",
   "execution_count": 7,
   "id": "ae2e309e",
   "metadata": {},
   "outputs": [
    {
     "name": "stdout",
     "output_type": "stream",
     "text": [
      "20.3% of BLA neurons are 'fear neurons'\n",
      "21.0% of BLA neurons are 'extinction neurons'\n",
      "58.7% of BLA neurons are 'persistent neurons'\n"
     ]
    },
    {
     "data": {
      "image/png": "[encoded data removed]",
      "text/plain": [
       "<Figure size 800x400 with 1 Axes>"
      ]
     },
     "metadata": {},
     "output_type": "display_data"
    }
   ],
   "source": [
    "A_post_cond = sim.data[net.pBLA_spikes][T_expression_cond_inactive: T_expression_cond_active]\n",
    "A_post_ext = sim.data[net.pBLA_spikes][T_expression_ext_inactive: T_expression_ext_active]\n",
    "dA_ext = np.mean(A_post_ext - A_post_cond, axis=0)\n",
    "A_thr_pos = 1.2  # neurons are \"increasing\" if they fire >20% more than the post-conditioning baseline\n",
    "A_thr_neg = 0.8  # neurons are \"decreasing\" if they fire at <80% of post-conditioning baseline\n",
    "extinction_neurons = np.where(np.mean(A_post_ext, axis=0) > A_thr_pos*np.mean(A_post_cond, axis=0))[0]\n",
    "fear_neurons = np.where(np.mean(A_post_ext, axis=0) < A_thr_neg*np.mean(A_post_cond, axis=0))[0]\n",
    "all_neurons = np.arange(dA_ext.shape[0])\n",
    "nonpersistent_neurons = np.concatenate((extinction_neurons, fear_neurons))\n",
    "persistent_neurons = np.setdiff1d(all_neurons, nonpersistent_neurons)\n",
    "print(f\"{len(fear_neurons)/len(dA_ext)*100:.3}% of BLA neurons are 'fear neurons'\")\n",
    "print(f\"{len(extinction_neurons)/len(dA_ext)*100:.3}% of BLA neurons are 'extinction neurons'\")\n",
    "print(f\"{len(persistent_neurons)/len(dA_ext)*100:.3}% of BLA neurons are 'persistent neurons'\")\n",
    "\n",
    "data = pd.DataFrame(columns=[\"neuron\", \"type\", \"Activity\", \"Experiment\"])\n",
    "for n in fear_neurons:\n",
    "    data = data.append({\"neuron\": n, \"type\": \"Fear\", \"Activity\": np.mean(A_post_cond[:,n]), \"Experiment\": \"Conditioning\"}, ignore_index=True)\n",
    "    data = data.append({\"neuron\": n, \"type\": \"Fear\", \"Activity\": np.mean(A_post_ext[:,n]), \"Experiment\": \"Extinction\"}, ignore_index=True)\n",
    "for n in persistent_neurons:\n",
    "    data = data.append({\"neuron\": n, \"type\": \"Persistent\", \"Activity\": np.mean(A_post_cond[:,n]), \"Experiment\": \"Conditioning\"}, ignore_index=True)\n",
    "    data = data.append({\"neuron\": n, \"type\": \"Persistent\", \"Activity\": np.mean(A_post_ext[:,n]), \"Experiment\": \"Extinction\"}, ignore_index=True)\n",
    "for n in extinction_neurons:\n",
    "    data = data.append({\"neuron\": n, \"type\": \"Extinction\", \"Activity\": np.mean(A_post_cond[:,n]), \"Experiment\": \"Conditioning\"}, ignore_index=True)\n",
    "    data = data.append({\"neuron\": n, \"type\": \"Extinction\", \"Activity\": np.mean(A_post_ext[:,n]), \"Experiment\": \"Extinction\"}, ignore_index=True)\n",
    "    \n",
    "fig, ax = plt.subplots(nrows=1, ncols=1, figsize=((8,4)))\n",
    "sns.barplot(data=data, x='type', y=\"Activity\", hue=\"Experiment\", palette=palette, ax=ax)\n",
    "ax.set(xlabel=None)\n",
    "plt.tight_layout()"
   ]
  },
  {
   "cell_type": "markdown",
   "id": "6c253e82",
   "metadata": {},
   "source": [
    "### LA \"on\" neurons maintain response properties after extinction"
   ]
  },
  {
   "cell_type": "code",
   "execution_count": 8,
   "id": "7fe2a272",
   "metadata": {},
   "outputs": [
    {
     "data": {
      "image/png": "[encoded data removed]",
      "text/plain": [
       "<Figure size 800x400 with 1 Axes>"
      ]
     },
     "metadata": {},
     "output_type": "display_data"
    }
   ],
   "source": [
    "LA_baseline = sim.data[net.pLA_spikes][T_baseline_inactive: T_baseline_active]\n",
    "LA_conditioning = sim.data[net.pLA_spikes][T_expression_cond_inactive: T_expression_cond_active]\n",
    "LA_extinction = sim.data[net.pLA_spikes][T_expression_ext_inactive: T_expression_ext_active]\n",
    "\n",
    "dLA = np.mean(LA_conditioning - LA_baseline, axis=0)\n",
    "A_thr_on = 1.2  # neurons are \"increasing\" if they fire >20% more than the post-conditioning baseline\n",
    "LA_on = np.where(np.mean(LA_expression, axis=0) > A_thr_on*np.mean(LA_baseline, axis=0))[0]\n",
    "\n",
    "data = pd.DataFrame(columns=[\"neuron\", \"Experiment\", \"Activity\"])\n",
    "for n in LA_on:\n",
    "    data = data.append({\"neuron\": n, \"Activity\": np.mean(LA_baseline[:,n]), \"Experiment\": \"Control\"}, ignore_index=True)\n",
    "    data = data.append({\"neuron\": n, \"Activity\": np.mean(LA_expression[:,n]), \"Experiment\": \"Conditioning\"}, ignore_index=True)\n",
    "    data = data.append({\"neuron\": n, \"Activity\": np.mean(LA_expression[:,n]), \"Experiment\": \"Extinction\"}, ignore_index=True)\n",
    "\n",
    "fig, ax = plt.subplots(figsize=((8,4)))\n",
    "sns.barplot(data=data, x=\"Experiment\", y=\"Activity\", palette=palette, ax=ax)\n",
    "ax.set(xlabel=None)\n",
    "plt.tight_layout()"
   ]
  },
  {
   "cell_type": "markdown",
   "id": "1cdadb35",
   "metadata": {},
   "source": [
    "## CeL and CeM Experiments"
   ]
  },
  {
   "cell_type": "markdown",
   "id": "9370b555",
   "metadata": {},
   "source": [
    "### Activation of CeM causes spontaneous freezing"
   ]
  },
  {
   "cell_type": "code",
   "execution_count": 9,
   "id": "095060b4",
   "metadata": {},
   "outputs": [
    {
     "name": "stdout",
     "output_type": "stream",
     "text": [
      "baseline\n",
      "CeM activation\n"
     ]
    },
    {
     "data": {
      "image/png": "[encoded data removed]",
      "text/plain": [
       "<Figure size 800x400 with 2 Axes>"
      ]
     },
     "metadata": {},
     "output_type": "display_data"
    }
   ],
   "source": [
    "net = build_network()\n",
    "with net:\n",
    "    nengo.Connection(net.applied_input, net.CeM)\n",
    "\n",
    "dt = 0.001\n",
    "nCond = 5\n",
    "nExt = 10\n",
    "\n",
    "sim = nengo.Simulator(net, dt=dt, progress_bar=False)\n",
    "with sim:\n",
    "    print(\"baseline\")\n",
    "    net.inputs.CTX = net.inputs.CTXs[0]\n",
    "    net.inputs.US = 0\n",
    "    sim.run(2)\n",
    "    T0 = int(2/dt)\n",
    "    print(\"CeM activation\")\n",
    "    net.inputs.applied_input = 1\n",
    "    sim.run(2)\n",
    "    T1 = int((2+2)/dt)\n",
    "\n",
    "data_sim = pd.DataFrame(columns=[\"Freezing\", \"Activity\", \"Experiment\"])\n",
    "data_sim = data_sim.append({\n",
    "    \"Freezing\": np.mean(sim.data[net.pCeM][0: T0]),\n",
    "    \"Activity\": np.mean(sim.data[net.pCeM_spikes][0: T0]),\n",
    "    \"Experiment\": \"Control\"},\n",
    "    ignore_index=True)\n",
    "data_sim = data_sim.append({\n",
    "    \"Freezing\": np.mean(sim.data[net.pCeM][T0: T1]),\n",
    "    \"Activity\": np.mean(sim.data[net.pCeM_spikes][T0: T1]),\n",
    "    \"Experiment\": 'CeM Activation at Test'},\n",
    "    ignore_index=True)\n",
    "\n",
    "fig, axes = plt.subplots(figsize=((8,4)), sharex=True, nrows=2, ncols=1)\n",
    "sns.barplot(data=data_sim, x='Experiment', y=\"Activity\", palette=palette[:2], ax=axes[0])\n",
    "sns.barplot(data=data_sim, x='Experiment', y=\"Freezing\", palette=palette[:2], ax=axes[1])\n",
    "axes[0].set(xlabel=None)\n",
    "axes[1].set(xlabel=None, yticks=((0,1)))\n",
    "plt.tight_layout()"
   ]
  },
  {
   "cell_type": "markdown",
   "id": "534b80af",
   "metadata": {},
   "source": [
    "### Inactivation of CeL produces spontaneous freezing"
   ]
  },
  {
   "cell_type": "code",
   "execution_count": 10,
   "id": "58f6e691",
   "metadata": {},
   "outputs": [
    {
     "name": "stdout",
     "output_type": "stream",
     "text": [
      "baseline\n",
      "CeL Inactivation\n"
     ]
    },
    {
     "data": {
      "image/png": "[encoded data removed]",
      "text/plain": [
       "<Figure size 800x400 with 2 Axes>"
      ]
     },
     "metadata": {},
     "output_type": "display_data"
    }
   ],
   "source": [
    "net = build_network()\n",
    "with net:\n",
    "    nengo.Connection(net.applied_input, net.CeL.neurons, transform=-1e0*np.ones((net.CeL.n_neurons,1)))\n",
    "\n",
    "dt = 0.001\n",
    "nCond = 5\n",
    "nExt = 10\n",
    "\n",
    "sim = nengo.Simulator(net, dt=dt, progress_bar=False)\n",
    "with sim:\n",
    "    print(\"baseline\")\n",
    "    net.inputs.CTX = net.inputs.CTXs[0]\n",
    "    net.inputs.US = 0\n",
    "    sim.run(2)\n",
    "    T0 = int(2/dt)\n",
    "    print(\"CeL Inactivation\")\n",
    "    net.inputs.applied_input = 1\n",
    "    sim.run(2)\n",
    "    T1 = int((2+2)/dt)\n",
    "\n",
    "data_sim = pd.DataFrame(columns=[\"Freezing\", \"Activity\", \"Experiment\"])\n",
    "data_sim = data_sim.append({\n",
    "    \"Freezing\": np.mean(sim.data[net.pCeM][0: T0]),\n",
    "    \"Activity\": np.mean(sim.data[net.pCeL_spikes][0: T0]),\n",
    "    \"Experiment\": \"Control\"},\n",
    "    ignore_index=True)\n",
    "data_sim = data_sim.append({\n",
    "    \"Freezing\": np.mean(sim.data[net.pCeM][T0: T1]),\n",
    "    \"Activity\": np.mean(sim.data[net.pCeL_spikes][T0: T1]),\n",
    "    \"Experiment\": 'CeL Inactivation at Test'},\n",
    "    ignore_index=True)\n",
    "\n",
    "fig, axes = plt.subplots(figsize=((8,4)), sharex=True, nrows=2, ncols=1)\n",
    "sns.barplot(data=data_sim, x='Experiment', y=\"Activity\", palette=palette[:2], ax=axes[0])\n",
    "sns.barplot(data=data_sim, x='Experiment', y=\"Freezing\", palette=palette[:2], ax=axes[1])\n",
    "axes[0].set(xlabel=None)\n",
    "axes[1].set(xlabel=None, yticks=((0,1)))\n",
    "plt.tight_layout()"
   ]
  },
  {
   "cell_type": "markdown",
   "id": "26836bc2",
   "metadata": {},
   "source": [
    "### Inactivation of CeM after conditioning impairs freezing"
   ]
  },
  {
   "cell_type": "code",
   "execution_count": 11,
   "id": "257d8ec1",
   "metadata": {},
   "outputs": [
    {
     "name": "stdout",
     "output_type": "stream",
     "text": [
      "baseline\n",
      "conditioning\n",
      "test\n",
      "test with CeM inactivation\n"
     ]
    },
    {
     "data": {
      "image/png": "[encoded data removed]",
      "text/plain": [
       "<Figure size 800x400 with 2 Axes>"
      ]
     },
     "metadata": {},
     "output_type": "display_data"
    }
   ],
   "source": [
    "net = build_network()\n",
    "with net:\n",
    "    nengo.Connection(net.applied_input, net.CeM)\n",
    "\n",
    "dt = 0.001\n",
    "nCond = 5\n",
    "nExt = 10\n",
    "\n",
    "sim = nengo.Simulator(net, dt=dt, progress_bar=False)\n",
    "with sim:\n",
    "    print(\"baseline\")\n",
    "    net.inputs.CTX = net.inputs.CTXs[0]\n",
    "    net.inputs.US = 0\n",
    "    sim.run(2)\n",
    "    T0 = int(1/dt)\n",
    "    T1 = int(2/dt)\n",
    "    print(\"conditioning\")\n",
    "    net.inputs.CTX = net.inputs.CTXs[0]\n",
    "    net.inputs.US = 1\n",
    "    for p in range(nCond):\n",
    "        sim.run(2)\n",
    "    print(\"test\")\n",
    "    net.inputs.CTX = net.inputs.CTXs[0]\n",
    "    net.inputs.US\n",
    "    sim.run(2)\n",
    "    T2 = int((2+2*nCond+1)/dt)\n",
    "    T3 = int((2+2*nCond+2)/dt)\n",
    "    print(\"test with CeM inactivation\")\n",
    "    net.inputs.applied_input = -1\n",
    "    net.inputs.CTX = net.inputs.CTXs[0]\n",
    "    net.inputs.US\n",
    "    sim.run(2)\n",
    "    T4 = int((2+2*nCond+2+1)/dt)\n",
    "    T5 = int((2+2*nCond+2+2)/dt)\n",
    "\n",
    "data_sim = pd.DataFrame(columns=[\"Freezing\", \"Activity\", \"Experiment\"])\n",
    "# data_sim = data_sim.append({\n",
    "#     \"Freezing\": np.mean(sim.data[net.pCeM][T0: T1]),\n",
    "#     \"Activity\": np.mean(sim.data[net.pCeM_spikes][T0: T1]),\n",
    "#     \"Experiment\": \"baseline\"},\n",
    "#     ignore_index=True)\n",
    "data_sim = data_sim.append({\n",
    "    \"Freezing\": np.mean(sim.data[net.pCeM][T2: T3]),\n",
    "    \"Activity\": np.mean(sim.data[net.pCeM_spikes][T2: T3]),\n",
    "    \"Experiment\": 'Control'},\n",
    "    ignore_index=True)\n",
    "data_sim = data_sim.append({\n",
    "    \"Freezing\": np.mean(sim.data[net.pCeM][T4: T5]),\n",
    "    \"Activity\": np.mean(sim.data[net.pCeM_spikes][T4: T5]),\n",
    "    \"Experiment\": 'CeM Inactivation at Test'},\n",
    "    ignore_index=True)\n",
    "\n",
    "fig, axes = plt.subplots(figsize=((8,4)), sharex=True, nrows=2, ncols=1)\n",
    "sns.barplot(data=data_sim, x='Experiment', y=\"Activity\", palette=palette, ax=axes[0])\n",
    "sns.barplot(data=data_sim, x='Experiment', y=\"Freezing\", palette=palette, ax=axes[1])\n",
    "axes[0].set(xlabel=None)\n",
    "axes[1].set(xlabel=None, yticks=((0,1)))\n",
    "plt.tight_layout()"
   ]
  },
  {
   "cell_type": "markdown",
   "id": "29e3b48f",
   "metadata": {},
   "source": [
    "### Inactivation of CeL during conditioning impairs freezing"
   ]
  },
  {
   "cell_type": "code",
   "execution_count": 90,
   "id": "9854f398",
   "metadata": {},
   "outputs": [
    {
     "name": "stdout",
     "output_type": "stream",
     "text": [
      "baseline\n",
      "conditioning\n",
      "test\n",
      "baseline\n",
      "conditioning with CeL inactivation\n",
      "test\n"
     ]
    }
   ],
   "source": [
    "data_sim = pd.DataFrame(columns=[\"Freezing\", \"Activity\", \"Experiment\"])\n",
    "\n",
    "dt = 0.001\n",
    "nCond = 5\n",
    "nExt = 10\n",
    "\n",
    "net = build_network()\n",
    "sim = nengo.Simulator(net, dt=dt, progress_bar=False)\n",
    "with sim:\n",
    "    print(\"baseline\")\n",
    "    net.inputs.applied_input = 0\n",
    "    net.inputs.CTX = net.inputs.CTXs[0]\n",
    "    net.inputs.US = 0\n",
    "    sim.run(2)\n",
    "    T0 = int(1/dt)\n",
    "    T1 = int(2/dt)\n",
    "    print(\"conditioning\")\n",
    "    net.inputs.applied_input = 0\n",
    "    net.inputs.CTX = net.inputs.CTXs[0]\n",
    "    net.inputs.US = 1\n",
    "    for p in range(nCond):\n",
    "        sim.run(2)\n",
    "    T2 = int((2+2*nCond)/dt)\n",
    "    print(\"test\")\n",
    "    net.inputs.applied_input = 0\n",
    "    net.inputs.CTX = net.inputs.CTXs[0]\n",
    "    net.inputs.US = 0\n",
    "    sim.run(2)\n",
    "    T3 = int((2+2*nCond+1)/dt)\n",
    "    T4 = int((2+2*nCond+2)/dt)\n",
    "# data_sim = data_sim.append({\n",
    "#     \"Freezing\": np.mean(sim.data[net.pCeM][T0: T1]),\n",
    "#     \"Activity\": np.mean(sim.data[net.pCeL_spikes][T0: T1]),\n",
    "#     \"Experiment\": \"baseline\"},\n",
    "#     ignore_index=True)\n",
    "data_sim = data_sim.append({\n",
    "    \"Freezing\": np.mean(sim.data[net.pCeM][T3: T4]),\n",
    "    \"Activity\": np.mean(sim.data[net.pCeL_spikes][T1: T2]),\n",
    "    \"Experiment\": 'Control'},\n",
    "    ignore_index=True)\n",
    "la_to_cel_weights_control = sim.data[net.la_to_cel][-1].ravel()\n",
    "\n",
    "\n",
    "net = build_network()\n",
    "with net:\n",
    "    nengo.Connection(net.applied_input, net.CeL.neurons, transform=-1e0*np.ones((net.CeL.n_neurons,1)))\n",
    "    nengo.Connection(net.applied_input, net.error_CeL.neurons, transform=-1e0*np.ones((net.error_CeL.n_neurons,1)))\n",
    "    nengo.Connection(net.applied_input, net.error_CeL_noCS.neurons, transform=-1e0*np.ones((net.error_CeL_noCS.n_neurons,1)))\n",
    "sim = nengo.Simulator(net, dt=dt, progress_bar=False)\n",
    "with sim:\n",
    "    print(\"baseline\")\n",
    "    net.inputs.applied_input = 0\n",
    "    net.inputs.CTX = net.inputs.CTXs[0]\n",
    "    net.inputs.US = 0\n",
    "    sim.run(2)\n",
    "    T0 = int(1/dt)\n",
    "    T1 = int(2/dt)\n",
    "    print(\"conditioning with CeL inactivation\")\n",
    "    net.inputs.applied_input = 1\n",
    "    net.inputs.CTX = net.inputs.CTXs[0]\n",
    "    net.inputs.US = 1\n",
    "    for p in range(nCond):\n",
    "        sim.run(2)\n",
    "    T2 = int((2+2*nCond)/dt)\n",
    "    print(\"test\")\n",
    "    net.inputs.applied_input = 0\n",
    "    net.inputs.CTX = net.inputs.CTXs[0]\n",
    "    net.inputs.US = 0\n",
    "    sim.run(2)\n",
    "    T3 = int((2+2*nCond+1)/dt)\n",
    "    T4 = int((2+2*nCond+2)/dt)\n",
    "# data_sim = data_sim.append({\n",
    "#     \"Freezing\": np.mean(sim.data[net.pCeM][T0: T1]),\n",
    "#     \"Activity\": np.mean(sim.data[net.pCeL_spikes][T0: T1]),\n",
    "#     \"Experiment\": \"baseline\"},\n",
    "#     ignore_index=True)\n",
    "data_sim = data_sim.append({\n",
    "    \"Freezing\": np.mean(sim.data[net.pCeM][T3: T4]),\n",
    "    \"Activity\": np.mean(sim.data[net.pCeL_spikes][T1: T2]),\n",
    "    \"Experiment\": 'CeL Inactivation at Conditioning'},\n",
    "    ignore_index=True)\n",
    "la_to_cel_weights_experiment = sim.data[net.la_to_cel][-1].ravel()\n",
    "\n",
    "\n",
    "# fig, axes = plt.subplots(figsize=((8,4)), sharex=True, nrows=2, ncols=1)\n",
    "# sns.barplot(data=data_sim, x='Experiment', y=\"Activity\", palette=palette, ax=axes[0])\n",
    "# sns.barplot(data=data_sim, x='Experiment', y=\"Freezing\", palette=palette, ax=axes[1])\n",
    "# axes[0].set(xlabel=None)\n",
    "# axes[1].set(xlabel=None, yticks=((0,1)))\n",
    "# plt.tight_layout()"
   ]
  },
  {
   "cell_type": "code",
   "execution_count": 91,
   "id": "52bd5819",
   "metadata": {},
   "outputs": [
    {
     "data": {
      "image/png": "[encoded data removed]",
      "text/plain": [
       "<Figure size 800x400 with 3 Axes>"
      ]
     },
     "metadata": {},
     "output_type": "display_data"
    }
   ],
   "source": [
    "bins = np.linspace(np.min(la_to_cel_weights_control), np.max(la_to_cel_weights_control), 20)\n",
    "fig, axes = plt.subplot_mosaic('''ac;bc''', figsize=((8,4)))\n",
    "sns.barplot(data=data_sim, x='Experiment', y=\"Activity\", palette=palette, ax=axes['a'])\n",
    "sns.barplot(data=data_sim, x='Experiment', y=\"Freezing\", palette=palette, ax=axes['b'])\n",
    "sns.histplot(la_to_cel_weights_control, bins=bins, stat='percent', color=palette[0], label=\"Control\", ax=axes['c'])\n",
    "sns.histplot(la_to_cel_weights_experiment, bins=bins, stat='percent', color=palette[1], label=\"CeL Inactivation at Conditioning\", ax=axes['c'])\n",
    "axes['a'].set(xlabel=None)\n",
    "axes['b'].set(xlabel=None, yticks=((0,1)))\n",
    "axes['c'].set(xlabel=\"LA to CeL decoders\")\n",
    "plt.tight_layout()"
   ]
  },
  {
   "cell_type": "markdown",
   "id": "b0f75f81",
   "metadata": {},
   "source": [
    "## LA Experiments"
   ]
  },
  {
   "cell_type": "markdown",
   "id": "7ce92bb8",
   "metadata": {},
   "source": [
    "### Inactivation of LA during conditioning impairs fear learning"
   ]
  },
  {
   "cell_type": "code",
   "execution_count": 92,
   "id": "7f9163bb",
   "metadata": {},
   "outputs": [
    {
     "name": "stdout",
     "output_type": "stream",
     "text": [
      "baseline\n",
      "conditioning\n",
      "test\n",
      "baseline\n",
      "conditioning with LA inactivation\n",
      "test\n"
     ]
    },
    {
     "data": {
      "image/png": "[encoded data removed]",
      "text/plain": [
       "<Figure size 800x400 with 3 Axes>"
      ]
     },
     "metadata": {},
     "output_type": "display_data"
    }
   ],
   "source": [
    "data_sim = pd.DataFrame(columns=[\"Freezing\", \"Activity\", \"Experiment\"])\n",
    "\n",
    "dt = 0.001\n",
    "nCond = 5\n",
    "nExt = 10\n",
    "\n",
    "net = build_network()\n",
    "sim = nengo.Simulator(net, dt=dt, progress_bar=False)\n",
    "with sim:\n",
    "    print(\"baseline\")\n",
    "    net.inputs.CTX = net.inputs.CTXs[0]\n",
    "    net.inputs.US = 0\n",
    "    sim.run(2)\n",
    "    T0 = int(1/dt)\n",
    "    T1 = int(2/dt)\n",
    "    print(\"conditioning\")\n",
    "    net.inputs.CTX = net.inputs.CTXs[0]\n",
    "    net.inputs.US = 1\n",
    "    for p in range(nCond):\n",
    "        sim.run(2)\n",
    "    T2 = int((2+2*nCond)/dt)\n",
    "    print(\"test\")\n",
    "    net.inputs.CTX = net.inputs.CTXs[0]\n",
    "    net.inputs.US = 0\n",
    "    sim.run(2)\n",
    "    T3 = int((2+2*nCond+1)/dt)\n",
    "    T4 = int((2+2*nCond+2)/dt)\n",
    "data_sim = data_sim.append({\n",
    "    \"Freezing\": np.mean(sim.data[net.pCeM][T3: T4]),\n",
    "    \"Activity\": np.mean(sim.data[net.pLA_spikes][T1: T2]),\n",
    "    \"Experiment\": 'Control'},\n",
    "    ignore_index=True)\n",
    "external_to_la_weights_control = sim.data[net.external_to_la][-1].ravel()\n",
    "\n",
    "\n",
    "net = build_network()\n",
    "with net:\n",
    "    nengo.Connection(net.applied_input, net.LA.neurons, transform=-1e0*np.ones((net.LA.n_neurons,1)))\n",
    "    nengo.Connection(net.applied_input, net.error_LA.neurons, transform=-1e0*np.ones((net.error_LA.n_neurons,1)))\n",
    "    nengo.Connection(net.applied_input, net.error_LA_noCS.neurons, transform=-1e0*np.ones((net.error_LA_noCS.n_neurons,1)))\n",
    "sim = nengo.Simulator(net, dt=dt, progress_bar=False)\n",
    "with sim:\n",
    "    print(\"baseline\")\n",
    "    net.inputs.CTX = net.inputs.CTXs[0]\n",
    "    net.inputs.US = 0\n",
    "    sim.run(2)\n",
    "    T0 = int(1/dt)\n",
    "    T1 = int(2/dt)\n",
    "    print(\"conditioning with LA inactivation\")\n",
    "    net.inputs.applied_input = 1\n",
    "    net.inputs.CTX = net.inputs.CTXs[0]\n",
    "    net.inputs.US = 1\n",
    "    for p in range(nCond):\n",
    "        sim.run(2)\n",
    "    T2 = int((2+2*nCond)/dt)\n",
    "    print(\"test\")\n",
    "    net.inputs.applied_input = 0\n",
    "    net.inputs.CTX = net.inputs.CTXs[0]\n",
    "    net.inputs.US = 0\n",
    "    sim.run(2)\n",
    "    T3 = int((2+2*nCond+1)/dt)\n",
    "    T4 = int((2+2*nCond+2)/dt)\n",
    "data_sim = data_sim.append({\n",
    "    \"Freezing\": np.mean(sim.data[net.pCeM][T3: T4]),\n",
    "    \"Activity\": np.mean(sim.data[net.pLA_spikes][T1: T2]),\n",
    "    \"Experiment\": 'LA Inactivation at Conditoning'},\n",
    "    ignore_index=True)\n",
    "external_to_la_weights_experiment = sim.data[net.external_to_la][-1].ravel()\n",
    "\n",
    "bins = np.linspace(np.min(external_to_la_weights_control), np.max(external_to_la_weights_control), 20)\n",
    "fig, axes = plt.subplot_mosaic('''ac;bc''', figsize=((8,4)))\n",
    "sns.barplot(data=data_sim, x='Experiment', y=\"Activity\", palette=palette, ax=axes['a'])\n",
    "sns.barplot(data=data_sim, x='Experiment', y=\"Freezing\", palette=palette, ax=axes['b'])\n",
    "sns.histplot(external_to_la_weights_control, bins=bins, stat='percent', color=palette[0], label=\"Control\", ax=axes['c'])\n",
    "sns.histplot(external_to_la_weights_experiment, bins=bins, stat='percent', color=palette[1], label=\"CeL Inactivation at Conditioning\", ax=axes['c'])\n",
    "axes['a'].set(xlabel=None)\n",
    "axes['b'].set(xlabel=None, yticks=((0,1)))\n",
    "axes['c'].set(xlabel=\"External Population to LA decoders\")\n",
    "plt.tight_layout()"
   ]
  },
  {
   "cell_type": "markdown",
   "id": "c3a44e0d",
   "metadata": {},
   "source": [
    "### Inactivation of LA after conditioning impairs fear expression"
   ]
  },
  {
   "cell_type": "code",
   "execution_count": 78,
   "id": "74a2939c",
   "metadata": {},
   "outputs": [
    {
     "name": "stdout",
     "output_type": "stream",
     "text": [
      "baseline\n",
      "conditioning\n",
      "test\n",
      "baseline\n",
      "conditioning with LA inactivation\n",
      "test\n"
     ]
    },
    {
     "data": {
      "image/png": "[encoded data removed]",
      "text/plain": [
       "<Figure size 800x400 with 2 Axes>"
      ]
     },
     "metadata": {},
     "output_type": "display_data"
    }
   ],
   "source": [
    "data_sim = pd.DataFrame(columns=[\"Freezing\", \"Activity\", \"Experiment\"])\n",
    "\n",
    "dt = 0.001\n",
    "nCond = 5\n",
    "nExt = 10\n",
    "\n",
    "net = build_network()\n",
    "sim = nengo.Simulator(net, dt=dt, progress_bar=False)\n",
    "with sim:\n",
    "    print(\"baseline\")\n",
    "    net.inputs.CTX = net.inputs.CTXs[0]\n",
    "    net.inputs.US = 0\n",
    "    sim.run(2)\n",
    "    T0 = int(1/dt)\n",
    "    T1 = int(2/dt)\n",
    "    print(\"conditioning\")\n",
    "    net.inputs.CTX = net.inputs.CTXs[0]\n",
    "    net.inputs.US = 1\n",
    "    for p in range(nCond):\n",
    "        sim.run(2)\n",
    "    T2 = int((2+2*nCond)/dt)\n",
    "    print(\"test\")\n",
    "    net.inputs.CTX = net.inputs.CTXs[0]\n",
    "    net.inputs.US = 0\n",
    "    sim.run(2)\n",
    "    T3 = int((2+2*nCond+1)/dt)\n",
    "    T4 = int((2+2*nCond+2)/dt)\n",
    "data_sim = data_sim.append({\n",
    "    \"Freezing\": np.mean(sim.data[net.pCeM][T3: T4]),\n",
    "    \"Activity\": np.mean(sim.data[net.pLA_spikes][T3: T4]),\n",
    "    \"Experiment\": 'Control'},\n",
    "    ignore_index=True)\n",
    "\n",
    "\n",
    "net = build_network()\n",
    "with net:\n",
    "    nengo.Connection(net.applied_input, net.LA.neurons, transform=-1e0*np.ones((net.LA.n_neurons,1)))\n",
    "    nengo.Connection(net.applied_input, net.error_LA.neurons, transform=-1e0*np.ones((net.error_LA.n_neurons,1)))\n",
    "    nengo.Connection(net.applied_input, net.error_LA_noCS.neurons, transform=-1e0*np.ones((net.error_LA_noCS.n_neurons,1)))\n",
    "sim = nengo.Simulator(net, dt=dt, progress_bar=False)\n",
    "with sim:\n",
    "    print(\"baseline\")\n",
    "    net.inputs.CTX = net.inputs.CTXs[0]\n",
    "    net.inputs.US = 0\n",
    "    sim.run(2)\n",
    "    T0 = int(1/dt)\n",
    "    T1 = int(2/dt)\n",
    "    print(\"conditioning with LA inactivation\")\n",
    "    net.inputs.CTX = net.inputs.CTXs[0]\n",
    "    net.inputs.US = 1\n",
    "    for p in range(nCond):\n",
    "        sim.run(2)\n",
    "    T2 = int((2+2*nCond)/dt)\n",
    "    print(\"test\")\n",
    "    net.inputs.applied_input = 1\n",
    "    net.inputs.CTX = net.inputs.CTXs[0]\n",
    "    net.inputs.US = 0\n",
    "    sim.run(2)\n",
    "    T3 = int((2+2*nCond+1)/dt)\n",
    "    T4 = int((2+2*nCond+2)/dt)\n",
    "data_sim = data_sim.append({\n",
    "    \"Freezing\": np.mean(sim.data[net.pCeM][T3: T4]),\n",
    "    \"Activity\": np.mean(sim.data[net.pLA_spikes][T3: T4]),\n",
    "    \"Experiment\": 'LA Inactivation at Test'},\n",
    "    ignore_index=True)\n",
    "\n",
    "fig, axes = plt.subplots(figsize=((8,4)), sharex=True, nrows=2, ncols=1)\n",
    "sns.barplot(data=data_sim, x='Experiment', y=\"Activity\", palette=palette, ax=axes[0])\n",
    "sns.barplot(data=data_sim, x='Experiment', y=\"Freezing\", palette=palette, ax=axes[1])\n",
    "axes[0].set(xlabel=None)\n",
    "axes[1].set(xlabel=None, yticks=((0,1)))\n",
    "plt.tight_layout()"
   ]
  },
  {
   "cell_type": "markdown",
   "id": "eeae4f02",
   "metadata": {},
   "source": [
    "## BLA Experiments"
   ]
  },
  {
   "cell_type": "markdown",
   "id": "b315c197",
   "metadata": {},
   "source": [
    "### Inactivating BLA during extinction impairs extinction learning"
   ]
  },
  {
   "cell_type": "code",
   "execution_count": 93,
   "id": "8dd953ab",
   "metadata": {},
   "outputs": [
    {
     "name": "stdout",
     "output_type": "stream",
     "text": [
      "baseline\n",
      "conditioning\n",
      "test (CTX_A)\n",
      "extinction\n",
      "test (CTX_B)\n",
      "baseline\n",
      "conditioning\n",
      "test (CTX_A)\n",
      "extinction\n",
      "test (CTX_B)\n"
     ]
    }
   ],
   "source": [
    "dt = 0.001\n",
    "nCond = 5\n",
    "nExt = 10\n",
    "data_sim = pd.DataFrame(columns=[\"Freezing\", \"Activity\", \"Experiment\"])\n",
    "\n",
    "net = build_network()\n",
    "sim = nengo.Simulator(net, dt=dt, progress_bar=False)\n",
    "with sim:\n",
    "    print(\"baseline\")\n",
    "    net.inputs.CTX = net.inputs.CTXs[0]\n",
    "    net.inputs.US = 0\n",
    "    sim.run(2)\n",
    "    T_baseline_inactive = int(1/dt)\n",
    "    T_baseline_active = int(2/dt)\n",
    "    print(\"conditioning\")\n",
    "    net.inputs.CTX = net.inputs.CTXs[0]\n",
    "    net.inputs.US = 1\n",
    "    for p in range(nCond):\n",
    "        sim.run(2)\n",
    "    print(\"test (CTX_A)\")\n",
    "    net.inputs.CTX = net.inputs.CTXs[0]\n",
    "    net.inputs.US = 0\n",
    "    sim.run(2)\n",
    "    T_expression_cond_inactive = int((2+2*nCond+1)/dt)\n",
    "    T_expression_cond_active = int((2+2*nCond+2)/dt)\n",
    "    print(\"extinction\")\n",
    "    net.inputs.CTX = net.inputs.CTXs[1]\n",
    "    net.inputs.US = 0\n",
    "    for p in range(nExt):\n",
    "        sim.run(2)\n",
    "    T_extinction_start = int((2+2*nCond+2)/dt)\n",
    "    T_extinction_end = int((2+2*nCond+2+2*nExt)/dt)\n",
    "    print(\"test (CTX_B)\")\n",
    "    net.inputs.CTX = net.inputs.CTXs[1]\n",
    "    net.inputs.US = 0\n",
    "    sim.run(2)\n",
    "    T_expression_ext_inactive = int((2+2*nCond+2+2*nExt+1)/dt)\n",
    "    T_expression_ext_active = int((2+2*nCond+2+2*nExt+2)/dt)\n",
    "    \n",
    "data_sim = data_sim.append({\n",
    "    \"Activity\": np.mean(sim.data[net.pBLA_spikes][T_extinction_start: T_extinction_end]),\n",
    "    \"Freezing\": np.mean(sim.data[net.pCeM][T_expression_ext_inactive: T_expression_ext_active]),\n",
    "    \"Experiment\": 'Control'},\n",
    "    ignore_index=True)\n",
    "external_to_bla_weights_control = sim.data[net.external_to_bla][T_extinction_end].ravel()\n",
    "\n",
    "\n",
    "net = build_network()\n",
    "with net:\n",
    "    nengo.Connection(net.applied_input, net.BLA.neurons, transform=-1e0*np.ones((net.BLA.n_neurons,1)))\n",
    "    nengo.Connection(net.applied_input, net.error_BLA_safe.neurons, transform=-1e0*np.ones((net.error_BLA_safe.n_neurons,1)))\n",
    "    nengo.Connection(net.applied_input, net.error_BLA_fear.neurons, transform=-1e0*np.ones((net.error_BLA_fear.n_neurons,1)))\n",
    "sim = nengo.Simulator(net, dt=dt, progress_bar=False)\n",
    "with sim:\n",
    "    print(\"baseline\")\n",
    "    net.inputs.CTX = net.inputs.CTXs[0]\n",
    "    net.inputs.US = 0\n",
    "    sim.run(2)\n",
    "    T_baseline_inactive = int(1/dt)\n",
    "    T_baseline_active = int(2/dt)\n",
    "    print(\"conditioning\")\n",
    "    net.inputs.CTX = net.inputs.CTXs[0]\n",
    "    net.inputs.US = 1\n",
    "    for p in range(nCond):\n",
    "        sim.run(2)\n",
    "    print(\"test (CTX_A)\")\n",
    "    net.inputs.CTX = net.inputs.CTXs[0]\n",
    "    net.inputs.US = 0\n",
    "    sim.run(2)\n",
    "    T_expression_cond_inactive = int((2+2*nCond+1)/dt)\n",
    "    T_expression_cond_active = int((2+2*nCond+2)/dt)\n",
    "    print(\"extinction\")\n",
    "    net.inputs.applied_input = 1\n",
    "    net.inputs.CTX = net.inputs.CTXs[1]\n",
    "    net.inputs.US = 0\n",
    "    for p in range(nExt):\n",
    "        sim.run(2)\n",
    "    print(\"test (CTX_B)\")\n",
    "    net.inputs.applied_input = 0\n",
    "    net.inputs.CTX = net.inputs.CTXs[1]\n",
    "    net.inputs.US = 0\n",
    "    sim.run(2)\n",
    "    T_expression_ext_inactive = int((2+2*nCond+2+2*nExt+1)/dt)\n",
    "    T_expression_ext_active = int((2+2*nCond+2+2*nExt+2)/dt)\n",
    "    \n",
    "data_sim = data_sim.append({\n",
    "    \"Activity\": np.mean(sim.data[net.pBLA_spikes][T_extinction_start: T_extinction_end]),\n",
    "    \"Freezing\": np.mean(sim.data[net.pCeM][T_expression_ext_inactive: T_expression_ext_active]),\n",
    "    \"Experiment\": 'BLA Inactivation at Extinction'},\n",
    "    ignore_index=True)\n",
    "external_to_bla_weights_experiment = sim.data[net.external_to_bla][T_extinction_end].ravel()"
   ]
  },
  {
   "cell_type": "code",
   "execution_count": 94,
   "id": "4d41eb0a",
   "metadata": {},
   "outputs": [
    {
     "data": {
      "image/png": "[encoded data removed]",
      "text/plain": [
       "<Figure size 800x400 with 3 Axes>"
      ]
     },
     "metadata": {},
     "output_type": "display_data"
    }
   ],
   "source": [
    "bins = np.linspace(np.min(external_to_bla_weights_control), np.max(external_to_bla_weights_control), 20)\n",
    "fig, axes = plt.subplot_mosaic('''ac;bc''', figsize=((8,4)))\n",
    "sns.barplot(data=data_sim, x='Experiment', y=\"Activity\", palette=palette, ax=axes['a'])\n",
    "sns.barplot(data=data_sim, x='Experiment', y=\"Freezing\", palette=palette, ax=axes['b'])\n",
    "sns.histplot(external_to_bla_weights_control, bins=bins, stat='percent', color=palette[0], label=\"Control\", ax=axes['c'])\n",
    "sns.histplot(external_to_bla_weights_experiment, bins=bins, stat='percent', color=palette[1], label=\"BLA Inactivation at Extinction\", ax=axes['c'])\n",
    "axes['a'].set(xlabel=None)\n",
    "axes['b'].set(xlabel=None, yticks=((0,1)))\n",
    "axes['c'].set(xlabel=\"External Population to BLA decoders\")\n",
    "axes['c'].legend()\n",
    "plt.tight_layout()"
   ]
  },
  {
   "cell_type": "code",
   "execution_count": null,
   "id": "6f3c75b4",
   "metadata": {},
   "outputs": [],
   "source": []
  }
 ],
 "metadata": {
  "kernelspec": {
   "display_name": "Python 3 (ipykernel)",
   "language": "python",
   "name": "python3"
  },
  "language_info": {
   "codemirror_mode": {
    "name": "ipython",
    "version": 3
   },
   "file_extension": ".py",
   "mimetype": "text/x-python",
   "name": "python",
   "nbconvert_exporter": "python",
   "pygments_lexer": "ipython3",
   "version": "3.7.13"
  }
 },
 "nbformat": 4,
 "nbformat_minor": 5
}
